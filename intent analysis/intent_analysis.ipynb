{
  "nbformat": 4,
  "nbformat_minor": 0,
  "metadata": {
    "colab": {
      "provenance": [],
      "toc_visible": true
    },
    "kernelspec": {
      "name": "python3",
      "display_name": "Python 3"
    },
    "language_info": {
      "name": "python"
    }
  },
  "cells": [
    {
      "cell_type": "markdown",
      "source": [
        "# Introduction : \n",
        "In this Colab notebook, we will explore how to build an Intent Analysis model using deep learning. Intent Analysis is an essential component of any chatbot or virtual assistant, which helps the system understand the user's intention or purpose behind their message. For instance, a user could ask a chatbot to cancel an order, track a shipment, or request a refund. The chatbot should be able to identify the user's intention and respond accordingly.\n",
        "\n",
        "We will use a public dataset that contains thousands of user messages and their corresponding intent labels. We will preprocess the dataset, tokenize the text data, and build a deep learning model using the TensorFlow Keras API. We will also evaluate the model's performance on a holdout test set and save the trained model and tokenizer for future use in the chatbot.\n",
        "\n",
        "By the end of this Colab notebook, you should be able to:\n",
        "\n",
        "Understand the basics of Intent Analysis\n",
        "Prepare text data for model training\n",
        "Build and train a deep learning model for Intent Analysis using Keras\n",
        "Evaluate the model's performance on a test set\n",
        "Save the trained model and tokenizer for future use in the chatbot."
      ],
      "metadata": {
        "id": "l_O6rDYPVtM-"
      }
    },
    {
      "cell_type": "code",
      "execution_count": 52,
      "metadata": {
        "id": "Qy_oice_qUpW"
      },
      "outputs": [],
      "source": [
        "import pandas as pd\n",
        "train_path=\"/content/drive/MyDrive/Colab Notebooks/Project/Review/intent analysis/Bitext_Sample_Customer_Service_Training_Dataset.csv\"\n",
        "valid_path=\"/content/drive/MyDrive/Colab Notebooks/Project/Review/intent analysis/Bitext_Sample_Customer_Service_Validation_Dataset.csv\"\n",
        "test_data=\"/content/drive/MyDrive/Colab Notebooks/Project/Review/intent analysis/Bitext_Sample_Customer_Service_Testing_Dataset.csv\"\n",
        "df_train=pd.read_csv(train_path)\n",
        "df_test=pd.read_csv(test_data)\n",
        "df_val=pd.read_csv(valid_path)\n"
      ]
    },
    {
      "cell_type": "code",
      "source": [
        "df_train.head()"
      ],
      "metadata": {
        "colab": {
          "base_uri": "https://localhost:8080/",
          "height": 206
        },
        "id": "rGTMVHdYq32T",
        "outputId": "07c84400-1b92-4e77-c22b-b71c9386d618"
      },
      "execution_count": 53,
      "outputs": [
        {
          "output_type": "execute_result",
          "data": {
            "text/plain": [
              "                                           utterance        intent category  \\\n",
              "0   would it be possible to cancel the order I made?  cancel_order    ORDER   \n",
              "1                                   cancelling order  cancel_order    ORDER   \n",
              "2  I need assistance canceling the last order I h...  cancel_order    ORDER   \n",
              "3            problem with canceling the order I made  cancel_order    ORDER   \n",
              "4        I don't know how to cancel the order I made  cancel_order    ORDER   \n",
              "\n",
              "  tags  \n",
              "0  BIP  \n",
              "1   BK  \n",
              "2    B  \n",
              "3    B  \n",
              "4    B  "
            ],
            "text/html": [
              "\n",
              "  <div id=\"df-d3633f48-01d1-45a5-8720-6bf59320e952\">\n",
              "    <div class=\"colab-df-container\">\n",
              "      <div>\n",
              "<style scoped>\n",
              "    .dataframe tbody tr th:only-of-type {\n",
              "        vertical-align: middle;\n",
              "    }\n",
              "\n",
              "    .dataframe tbody tr th {\n",
              "        vertical-align: top;\n",
              "    }\n",
              "\n",
              "    .dataframe thead th {\n",
              "        text-align: right;\n",
              "    }\n",
              "</style>\n",
              "<table border=\"1\" class=\"dataframe\">\n",
              "  <thead>\n",
              "    <tr style=\"text-align: right;\">\n",
              "      <th></th>\n",
              "      <th>utterance</th>\n",
              "      <th>intent</th>\n",
              "      <th>category</th>\n",
              "      <th>tags</th>\n",
              "    </tr>\n",
              "  </thead>\n",
              "  <tbody>\n",
              "    <tr>\n",
              "      <th>0</th>\n",
              "      <td>would it be possible to cancel the order I made?</td>\n",
              "      <td>cancel_order</td>\n",
              "      <td>ORDER</td>\n",
              "      <td>BIP</td>\n",
              "    </tr>\n",
              "    <tr>\n",
              "      <th>1</th>\n",
              "      <td>cancelling order</td>\n",
              "      <td>cancel_order</td>\n",
              "      <td>ORDER</td>\n",
              "      <td>BK</td>\n",
              "    </tr>\n",
              "    <tr>\n",
              "      <th>2</th>\n",
              "      <td>I need assistance canceling the last order I h...</td>\n",
              "      <td>cancel_order</td>\n",
              "      <td>ORDER</td>\n",
              "      <td>B</td>\n",
              "    </tr>\n",
              "    <tr>\n",
              "      <th>3</th>\n",
              "      <td>problem with canceling the order I made</td>\n",
              "      <td>cancel_order</td>\n",
              "      <td>ORDER</td>\n",
              "      <td>B</td>\n",
              "    </tr>\n",
              "    <tr>\n",
              "      <th>4</th>\n",
              "      <td>I don't know how to cancel the order I made</td>\n",
              "      <td>cancel_order</td>\n",
              "      <td>ORDER</td>\n",
              "      <td>B</td>\n",
              "    </tr>\n",
              "  </tbody>\n",
              "</table>\n",
              "</div>\n",
              "      <button class=\"colab-df-convert\" onclick=\"convertToInteractive('df-d3633f48-01d1-45a5-8720-6bf59320e952')\"\n",
              "              title=\"Convert this dataframe to an interactive table.\"\n",
              "              style=\"display:none;\">\n",
              "        \n",
              "  <svg xmlns=\"http://www.w3.org/2000/svg\" height=\"24px\"viewBox=\"0 0 24 24\"\n",
              "       width=\"24px\">\n",
              "    <path d=\"M0 0h24v24H0V0z\" fill=\"none\"/>\n",
              "    <path d=\"M18.56 5.44l.94 2.06.94-2.06 2.06-.94-2.06-.94-.94-2.06-.94 2.06-2.06.94zm-11 1L8.5 8.5l.94-2.06 2.06-.94-2.06-.94L8.5 2.5l-.94 2.06-2.06.94zm10 10l.94 2.06.94-2.06 2.06-.94-2.06-.94-.94-2.06-.94 2.06-2.06.94z\"/><path d=\"M17.41 7.96l-1.37-1.37c-.4-.4-.92-.59-1.43-.59-.52 0-1.04.2-1.43.59L10.3 9.45l-7.72 7.72c-.78.78-.78 2.05 0 2.83L4 21.41c.39.39.9.59 1.41.59.51 0 1.02-.2 1.41-.59l7.78-7.78 2.81-2.81c.8-.78.8-2.07 0-2.86zM5.41 20L4 18.59l7.72-7.72 1.47 1.35L5.41 20z\"/>\n",
              "  </svg>\n",
              "      </button>\n",
              "      \n",
              "  <style>\n",
              "    .colab-df-container {\n",
              "      display:flex;\n",
              "      flex-wrap:wrap;\n",
              "      gap: 12px;\n",
              "    }\n",
              "\n",
              "    .colab-df-convert {\n",
              "      background-color: #E8F0FE;\n",
              "      border: none;\n",
              "      border-radius: 50%;\n",
              "      cursor: pointer;\n",
              "      display: none;\n",
              "      fill: #1967D2;\n",
              "      height: 32px;\n",
              "      padding: 0 0 0 0;\n",
              "      width: 32px;\n",
              "    }\n",
              "\n",
              "    .colab-df-convert:hover {\n",
              "      background-color: #E2EBFA;\n",
              "      box-shadow: 0px 1px 2px rgba(60, 64, 67, 0.3), 0px 1px 3px 1px rgba(60, 64, 67, 0.15);\n",
              "      fill: #174EA6;\n",
              "    }\n",
              "\n",
              "    [theme=dark] .colab-df-convert {\n",
              "      background-color: #3B4455;\n",
              "      fill: #D2E3FC;\n",
              "    }\n",
              "\n",
              "    [theme=dark] .colab-df-convert:hover {\n",
              "      background-color: #434B5C;\n",
              "      box-shadow: 0px 1px 3px 1px rgba(0, 0, 0, 0.15);\n",
              "      filter: drop-shadow(0px 1px 2px rgba(0, 0, 0, 0.3));\n",
              "      fill: #FFFFFF;\n",
              "    }\n",
              "  </style>\n",
              "\n",
              "      <script>\n",
              "        const buttonEl =\n",
              "          document.querySelector('#df-d3633f48-01d1-45a5-8720-6bf59320e952 button.colab-df-convert');\n",
              "        buttonEl.style.display =\n",
              "          google.colab.kernel.accessAllowed ? 'block' : 'none';\n",
              "\n",
              "        async function convertToInteractive(key) {\n",
              "          const element = document.querySelector('#df-d3633f48-01d1-45a5-8720-6bf59320e952');\n",
              "          const dataTable =\n",
              "            await google.colab.kernel.invokeFunction('convertToInteractive',\n",
              "                                                     [key], {});\n",
              "          if (!dataTable) return;\n",
              "\n",
              "          const docLinkHtml = 'Like what you see? Visit the ' +\n",
              "            '<a target=\"_blank\" href=https://colab.research.google.com/notebooks/data_table.ipynb>data table notebook</a>'\n",
              "            + ' to learn more about interactive tables.';\n",
              "          element.innerHTML = '';\n",
              "          dataTable['output_type'] = 'display_data';\n",
              "          await google.colab.output.renderOutput(dataTable, element);\n",
              "          const docLink = document.createElement('div');\n",
              "          docLink.innerHTML = docLinkHtml;\n",
              "          element.appendChild(docLink);\n",
              "        }\n",
              "      </script>\n",
              "    </div>\n",
              "  </div>\n",
              "  "
            ]
          },
          "metadata": {},
          "execution_count": 53
        }
      ]
    },
    {
      "cell_type": "code",
      "source": [
        "df_train.columns"
      ],
      "metadata": {
        "colab": {
          "base_uri": "https://localhost:8080/"
        },
        "id": "gnQQ0di7q6IX",
        "outputId": "892a90fe-db29-43d6-a657-03e766892df2"
      },
      "execution_count": 54,
      "outputs": [
        {
          "output_type": "execute_result",
          "data": {
            "text/plain": [
              "Index(['utterance', 'intent', 'category', 'tags'], dtype='object')"
            ]
          },
          "metadata": {},
          "execution_count": 54
        }
      ]
    },
    {
      "cell_type": "markdown",
      "source": [
        "## Importing the libraries:"
      ],
      "metadata": {
        "id": "7_nXE82VWOax"
      }
    },
    {
      "cell_type": "code",
      "source": [
        "import pandas as pd\n",
        "import numpy as np\n",
        "from sklearn.model_selection import train_test_split\n",
        "from sklearn.preprocessing import LabelEncoder\n",
        "from tensorflow.keras.preprocessing.text import Tokenizer\n",
        "from tensorflow.keras.preprocessing.sequence import pad_sequences\n",
        "from tensorflow.keras.models import Sequential\n",
        "from tensorflow.keras.layers import Embedding, Flatten, Dense\n",
        "\n",
        "\n",
        "\n"
      ],
      "metadata": {
        "id": "8ZisLtZLrCZ0"
      },
      "execution_count": 55,
      "outputs": []
    },
    {
      "cell_type": "code",
      "source": [
        "# Split data into X and y\n",
        "X_train = df_train[\"utterance\"].values\n",
        "y_train = df_train[\"intent\"].values\n",
        "X_test = df_test[\"utterance\"].values\n",
        "y_test = df_test[\"intent\"].values\n",
        "X_val = df_val[\"utterance\"].values\n",
        "y_val = df_val[\"intent\"].values\n",
        "\n",
        "# Tokenize text\n",
        "tokenizer = Tokenizer()\n",
        "tokenizer.fit_on_texts(X_train)\n",
        "X_train = tokenizer.texts_to_sequences(X_train)\n",
        "X_test = tokenizer.texts_to_sequences(X_test)\n",
        "X_val = tokenizer.texts_to_sequences(X_val)\n",
        "\n",
        "# Pad sequences\n",
        "max_len = 100\n",
        "X_train = pad_sequences(X_train, maxlen=max_len)\n",
        "X_test = pad_sequences(X_test, maxlen=max_len)\n",
        "X_val = pad_sequences(X_val, maxlen=max_len)\n",
        "\n",
        "# Encode categorical labels\n",
        "label_encoder = LabelEncoder()\n",
        "y_train = label_encoder.fit_transform(y_train)\n",
        "y_test = label_encoder.transform(y_test)\n",
        "y_val = label_encoder.transform(y_val)\n",
        "\n",
        "# Define model\n",
        "model = Sequential()\n",
        "model.add(Embedding(input_dim=len(tokenizer.word_index)+1, output_dim=32, input_length=max_len))\n",
        "model.add(Flatten())\n",
        "model.add(Dense(16, activation=\"relu\"))\n",
        "model.add(Dense(8, activation=\"relu\"))\n",
        "model.add(Dense(len(label_encoder.classes_), activation=\"softmax\"))\n",
        "\n",
        "# Compile model\n",
        "model.compile(loss=\"sparse_categorical_crossentropy\", optimizer=\"adam\", metrics=[\"accuracy\"])\n",
        "\n",
        "# Train model\n",
        "model.fit(X_train, y_train, validation_data=(X_val, y_val), epochs=50, batch_size=64)\n",
        "\n",
        "# Evaluate model on test set\n",
        "loss, acc = model.evaluate(X_test, y_test)\n",
        "print(\"Test loss:\", loss)\n",
        "print(\"Test accuracy:\", acc)"
      ],
      "metadata": {
        "colab": {
          "base_uri": "https://localhost:8080/"
        },
        "id": "tbPZctJzWdTP",
        "outputId": "fd8fd668-d4f7-4b80-a66b-867b77a257c6"
      },
      "execution_count": 56,
      "outputs": [
        {
          "output_type": "stream",
          "name": "stdout",
          "text": [
            "Epoch 1/50\n",
            "103/103 [==============================] - 2s 7ms/step - loss: 3.2570 - accuracy: 0.0381 - val_loss: 3.1452 - val_accuracy: 0.0807\n",
            "Epoch 2/50\n",
            "103/103 [==============================] - 1s 5ms/step - loss: 2.9607 - accuracy: 0.1083 - val_loss: 2.7662 - val_accuracy: 0.1198\n",
            "Epoch 3/50\n",
            "103/103 [==============================] - 1s 6ms/step - loss: 2.5187 - accuracy: 0.1797 - val_loss: 2.3064 - val_accuracy: 0.2066\n",
            "Epoch 4/50\n",
            "103/103 [==============================] - 1s 5ms/step - loss: 2.1089 - accuracy: 0.2536 - val_loss: 1.9733 - val_accuracy: 0.3007\n",
            "Epoch 5/50\n",
            "103/103 [==============================] - 1s 6ms/step - loss: 1.7707 - accuracy: 0.3858 - val_loss: 1.6562 - val_accuracy: 0.4560\n",
            "Epoch 6/50\n",
            "103/103 [==============================] - 1s 5ms/step - loss: 1.4644 - accuracy: 0.5166 - val_loss: 1.3811 - val_accuracy: 0.5367\n",
            "Epoch 7/50\n",
            "103/103 [==============================] - 1s 5ms/step - loss: 1.2071 - accuracy: 0.5928 - val_loss: 1.1418 - val_accuracy: 0.6027\n",
            "Epoch 8/50\n",
            "103/103 [==============================] - 1s 5ms/step - loss: 0.9488 - accuracy: 0.7099 - val_loss: 0.8729 - val_accuracy: 0.7384\n",
            "Epoch 9/50\n",
            "103/103 [==============================] - 1s 5ms/step - loss: 0.7093 - accuracy: 0.8009 - val_loss: 0.6758 - val_accuracy: 0.8411\n",
            "Epoch 10/50\n",
            "103/103 [==============================] - 1s 5ms/step - loss: 0.5375 - accuracy: 0.8787 - val_loss: 0.5424 - val_accuracy: 0.8888\n",
            "Epoch 11/50\n",
            "103/103 [==============================] - 1s 8ms/step - loss: 0.4077 - accuracy: 0.9137 - val_loss: 0.4358 - val_accuracy: 0.9010\n",
            "Epoch 12/50\n",
            "103/103 [==============================] - 1s 5ms/step - loss: 0.3119 - accuracy: 0.9269 - val_loss: 0.3809 - val_accuracy: 0.8998\n",
            "Epoch 13/50\n",
            "103/103 [==============================] - 1s 10ms/step - loss: 0.2469 - accuracy: 0.9336 - val_loss: 0.3239 - val_accuracy: 0.9108\n",
            "Epoch 14/50\n",
            "103/103 [==============================] - 1s 13ms/step - loss: 0.2039 - accuracy: 0.9382 - val_loss: 0.2843 - val_accuracy: 0.9132\n",
            "Epoch 15/50\n",
            "103/103 [==============================] - 1s 9ms/step - loss: 0.1725 - accuracy: 0.9442 - val_loss: 0.2584 - val_accuracy: 0.9340\n",
            "Epoch 16/50\n",
            "103/103 [==============================] - 1s 8ms/step - loss: 0.1490 - accuracy: 0.9491 - val_loss: 0.2537 - val_accuracy: 0.9108\n",
            "Epoch 17/50\n",
            "103/103 [==============================] - 1s 8ms/step - loss: 0.1320 - accuracy: 0.9581 - val_loss: 0.2433 - val_accuracy: 0.9303\n",
            "Epoch 18/50\n",
            "103/103 [==============================] - 1s 5ms/step - loss: 0.1153 - accuracy: 0.9712 - val_loss: 0.2153 - val_accuracy: 0.9474\n",
            "Epoch 19/50\n",
            "103/103 [==============================] - 1s 6ms/step - loss: 0.1019 - accuracy: 0.9824 - val_loss: 0.2078 - val_accuracy: 0.9548\n",
            "Epoch 20/50\n",
            "103/103 [==============================] - 1s 6ms/step - loss: 0.0908 - accuracy: 0.9873 - val_loss: 0.1987 - val_accuracy: 0.9645\n",
            "Epoch 21/50\n",
            "103/103 [==============================] - 1s 6ms/step - loss: 0.0811 - accuracy: 0.9896 - val_loss: 0.2039 - val_accuracy: 0.9572\n",
            "Epoch 22/50\n",
            "103/103 [==============================] - 1s 5ms/step - loss: 0.0720 - accuracy: 0.9917 - val_loss: 0.1799 - val_accuracy: 0.9645\n",
            "Epoch 23/50\n",
            "103/103 [==============================] - 1s 6ms/step - loss: 0.0640 - accuracy: 0.9945 - val_loss: 0.1766 - val_accuracy: 0.9682\n",
            "Epoch 24/50\n",
            "103/103 [==============================] - 1s 5ms/step - loss: 0.0583 - accuracy: 0.9939 - val_loss: 0.1713 - val_accuracy: 0.9658\n",
            "Epoch 25/50\n",
            "103/103 [==============================] - 1s 6ms/step - loss: 0.0517 - accuracy: 0.9962 - val_loss: 0.1707 - val_accuracy: 0.9707\n",
            "Epoch 26/50\n",
            "103/103 [==============================] - 1s 6ms/step - loss: 0.0468 - accuracy: 0.9968 - val_loss: 0.1702 - val_accuracy: 0.9694\n",
            "Epoch 27/50\n",
            "103/103 [==============================] - 1s 5ms/step - loss: 0.0427 - accuracy: 0.9966 - val_loss: 0.1639 - val_accuracy: 0.9670\n",
            "Epoch 28/50\n",
            "103/103 [==============================] - 1s 6ms/step - loss: 0.0383 - accuracy: 0.9971 - val_loss: 0.1584 - val_accuracy: 0.9658\n",
            "Epoch 29/50\n",
            "103/103 [==============================] - 1s 5ms/step - loss: 0.0349 - accuracy: 0.9960 - val_loss: 0.1558 - val_accuracy: 0.9682\n",
            "Epoch 30/50\n",
            "103/103 [==============================] - 1s 6ms/step - loss: 0.0315 - accuracy: 0.9974 - val_loss: 0.1519 - val_accuracy: 0.9719\n",
            "Epoch 31/50\n",
            "103/103 [==============================] - 1s 6ms/step - loss: 0.0288 - accuracy: 0.9969 - val_loss: 0.1517 - val_accuracy: 0.9694\n",
            "Epoch 32/50\n",
            "103/103 [==============================] - 1s 6ms/step - loss: 0.0269 - accuracy: 0.9971 - val_loss: 0.1549 - val_accuracy: 0.9670\n",
            "Epoch 33/50\n",
            "103/103 [==============================] - 1s 6ms/step - loss: 0.0266 - accuracy: 0.9968 - val_loss: 0.1579 - val_accuracy: 0.9670\n",
            "Epoch 34/50\n",
            "103/103 [==============================] - 1s 5ms/step - loss: 0.0228 - accuracy: 0.9974 - val_loss: 0.1442 - val_accuracy: 0.9719\n",
            "Epoch 35/50\n",
            "103/103 [==============================] - 1s 8ms/step - loss: 0.0205 - accuracy: 0.9977 - val_loss: 0.1508 - val_accuracy: 0.9719\n",
            "Epoch 36/50\n",
            "103/103 [==============================] - 1s 9ms/step - loss: 0.0194 - accuracy: 0.9982 - val_loss: 0.1519 - val_accuracy: 0.9719\n",
            "Epoch 37/50\n",
            "103/103 [==============================] - 1s 9ms/step - loss: 0.0179 - accuracy: 0.9982 - val_loss: 0.1588 - val_accuracy: 0.9731\n",
            "Epoch 38/50\n",
            "103/103 [==============================] - 1s 9ms/step - loss: 0.0168 - accuracy: 0.9988 - val_loss: 0.1436 - val_accuracy: 0.9731\n",
            "Epoch 39/50\n",
            "103/103 [==============================] - 1s 8ms/step - loss: 0.0157 - accuracy: 0.9986 - val_loss: 0.1558 - val_accuracy: 0.9719\n",
            "Epoch 40/50\n",
            "103/103 [==============================] - 1s 5ms/step - loss: 0.0148 - accuracy: 0.9983 - val_loss: 0.1476 - val_accuracy: 0.9731\n",
            "Epoch 41/50\n",
            "103/103 [==============================] - 1s 6ms/step - loss: 0.0140 - accuracy: 0.9983 - val_loss: 0.1516 - val_accuracy: 0.9743\n",
            "Epoch 42/50\n",
            "103/103 [==============================] - 1s 5ms/step - loss: 0.0130 - accuracy: 0.9988 - val_loss: 0.1485 - val_accuracy: 0.9756\n",
            "Epoch 43/50\n",
            "103/103 [==============================] - 1s 5ms/step - loss: 0.0120 - accuracy: 0.9986 - val_loss: 0.1525 - val_accuracy: 0.9707\n",
            "Epoch 44/50\n",
            "103/103 [==============================] - 1s 6ms/step - loss: 0.0115 - accuracy: 0.9989 - val_loss: 0.1523 - val_accuracy: 0.9756\n",
            "Epoch 45/50\n",
            "103/103 [==============================] - 1s 6ms/step - loss: 0.0104 - accuracy: 0.9992 - val_loss: 0.1535 - val_accuracy: 0.9756\n",
            "Epoch 46/50\n",
            "103/103 [==============================] - 1s 6ms/step - loss: 0.0099 - accuracy: 0.9992 - val_loss: 0.1541 - val_accuracy: 0.9743\n",
            "Epoch 47/50\n",
            "103/103 [==============================] - 1s 5ms/step - loss: 0.0099 - accuracy: 0.9992 - val_loss: 0.1519 - val_accuracy: 0.9756\n",
            "Epoch 48/50\n",
            "103/103 [==============================] - 1s 5ms/step - loss: 0.0087 - accuracy: 0.9991 - val_loss: 0.1613 - val_accuracy: 0.9731\n",
            "Epoch 49/50\n",
            "103/103 [==============================] - 1s 6ms/step - loss: 0.0083 - accuracy: 0.9991 - val_loss: 0.1547 - val_accuracy: 0.9756\n",
            "Epoch 50/50\n",
            "103/103 [==============================] - 1s 6ms/step - loss: 0.0074 - accuracy: 0.9992 - val_loss: 0.1477 - val_accuracy: 0.9768\n",
            "26/26 [==============================] - 0s 2ms/step - loss: 0.3872 - accuracy: 0.9768\n",
            "Test loss: 0.38723069429397583\n",
            "Test accuracy: 0.9767726063728333\n"
          ]
        }
      ]
    },
    {
      "cell_type": "code",
      "source": [
        "# Tokenize and pad test data\n",
        "X_test = tokenizer.texts_to_sequences(df_test[\"utterance\"].values)\n",
        "X_test = pad_sequences(X_test, maxlen=max_len)\n",
        "\n",
        "# Predict on test data\n",
        "y_pred = model.predict(X_test)\n",
        "\n",
        "# Decode categorical labels\n",
        "y_pred = np.argmax(y_pred, axis=1)\n",
        "y_pred = label_encoder.inverse_transform(y_pred)\n",
        "\n",
        "# Print predicted labels\n",
        "print(y_pred)\n"
      ],
      "metadata": {
        "colab": {
          "base_uri": "https://localhost:8080/"
        },
        "id": "P-hTNSS37cyP",
        "outputId": "244bd063-9466-41e3-cf49-a32d5ce2eff1"
      },
      "execution_count": 57,
      "outputs": [
        {
          "output_type": "stream",
          "name": "stderr",
          "text": [
            "WARNING:tensorflow:5 out of the last 35 calls to <function Model.make_predict_function.<locals>.predict_function at 0x7fb83cc4ad30> triggered tf.function retracing. Tracing is expensive and the excessive number of tracings could be due to (1) creating @tf.function repeatedly in a loop, (2) passing tensors with different shapes, (3) passing Python objects instead of tensors. For (1), please define your @tf.function outside of the loop. For (2), @tf.function has reduce_retracing=True option that can avoid unnecessary retracing. For (3), please refer to https://www.tensorflow.org/guide/function#controlling_retracing and https://www.tensorflow.org/api_docs/python/tf/function for  more details.\n"
          ]
        },
        {
          "output_type": "stream",
          "name": "stdout",
          "text": [
            "26/26 [==============================] - 0s 2ms/step\n",
            "['cancel_order' 'cancel_order' 'cancel_order' 'cancel_order'\n",
            " 'cancel_order' 'cancel_order' 'cancel_order' 'cancel_order'\n",
            " 'cancel_order' 'cancel_order' 'cancel_order' 'cancel_order'\n",
            " 'cancel_order' 'cancel_order' 'cancel_order' 'cancel_order'\n",
            " 'cancel_order' 'cancel_order' 'cancel_order' 'cancel_order'\n",
            " 'cancel_order' 'cancel_order' 'cancel_order' 'cancel_order'\n",
            " 'cancel_order' 'change_order' 'change_order' 'change_order'\n",
            " 'change_order' 'change_order' 'change_order' 'change_order'\n",
            " 'change_order' 'change_order' 'change_order' 'change_order'\n",
            " 'change_order' 'change_order' 'change_order' 'change_order'\n",
            " 'change_order' 'change_order' 'change_order' 'change_order'\n",
            " 'change_order' 'change_order' 'change_order' 'change_order'\n",
            " 'change_order' 'change_order' 'change_order' 'change_order'\n",
            " 'change_order' 'change_order' 'change_order' 'change_order'\n",
            " 'change_order' 'change_order' 'change_order' 'change_order'\n",
            " 'change_order' 'change_order' 'change_order' 'change_order'\n",
            " 'change_shipping_address' 'change_shipping_address'\n",
            " 'change_shipping_address' 'change_shipping_address'\n",
            " 'change_shipping_address' 'change_shipping_address'\n",
            " 'change_shipping_address' 'change_shipping_address'\n",
            " 'change_shipping_address' 'change_shipping_address'\n",
            " 'change_shipping_address' 'change_shipping_address'\n",
            " 'change_shipping_address' 'change_shipping_address' 'edit_account'\n",
            " 'change_shipping_address' 'change_shipping_address'\n",
            " 'change_shipping_address' 'change_shipping_address'\n",
            " 'change_shipping_address' 'change_shipping_address'\n",
            " 'change_shipping_address' 'change_shipping_address'\n",
            " 'change_shipping_address' 'change_shipping_address'\n",
            " 'change_shipping_address' 'change_shipping_address'\n",
            " 'change_shipping_address' 'change_shipping_address'\n",
            " 'change_shipping_address' 'change_shipping_address'\n",
            " 'change_shipping_address' 'change_shipping_address'\n",
            " 'change_shipping_address' 'change_shipping_address'\n",
            " 'change_shipping_address' 'change_shipping_address'\n",
            " 'change_shipping_address' 'change_shipping_address'\n",
            " 'change_shipping_address' 'change_shipping_address'\n",
            " 'check_cancellation_fee' 'check_cancellation_fee'\n",
            " 'check_cancellation_fee' 'check_cancellation_fee'\n",
            " 'check_cancellation_fee' 'check_cancellation_fee'\n",
            " 'check_cancellation_fee' 'check_cancellation_fee'\n",
            " 'check_cancellation_fee' 'check_cancellation_fee'\n",
            " 'check_cancellation_fee' 'contact_customer_service'\n",
            " 'check_cancellation_fee' 'check_cancellation_fee'\n",
            " 'check_cancellation_fee' 'check_cancellation_fee'\n",
            " 'check_cancellation_fee' 'check_cancellation_fee'\n",
            " 'check_cancellation_fee' 'check_cancellation_fee'\n",
            " 'check_cancellation_fee' 'check_cancellation_fee'\n",
            " 'check_cancellation_fee' 'check_cancellation_fee'\n",
            " 'check_cancellation_fee' 'check_cancellation_fee' 'check_invoice'\n",
            " 'check_invoice' 'check_invoice' 'check_invoice' 'check_invoice'\n",
            " 'check_invoice' 'check_invoice' 'check_invoice' 'check_invoice'\n",
            " 'check_invoice' 'check_invoice' 'check_invoice' 'check_invoice'\n",
            " 'check_invoice' 'check_invoice' 'check_invoice' 'check_invoice'\n",
            " 'check_invoice' 'check_invoice' 'check_invoice' 'check_invoice'\n",
            " 'check_invoice' 'check_invoice' 'check_invoice' 'check_invoice'\n",
            " 'check_invoice' 'check_invoice' 'check_invoice' 'check_invoice'\n",
            " 'check_invoice' 'check_invoice' 'check_payment_methods'\n",
            " 'check_payment_methods' 'check_payment_methods' 'check_payment_methods'\n",
            " 'check_payment_methods' 'check_payment_methods' 'check_payment_methods'\n",
            " 'check_payment_methods' 'check_payment_methods' 'check_payment_methods'\n",
            " 'check_payment_methods' 'check_payment_methods' 'check_payment_methods'\n",
            " 'check_payment_methods' 'check_payment_methods' 'check_payment_methods'\n",
            " 'check_payment_methods' 'check_payment_methods' 'check_payment_methods'\n",
            " 'check_payment_methods' 'check_payment_methods' 'check_payment_methods'\n",
            " 'check_payment_methods' 'check_payment_methods' 'check_payment_methods'\n",
            " 'check_payment_methods' 'check_refund_policy' 'check_refund_policy'\n",
            " 'check_refund_policy' 'check_refund_policy' 'check_refund_policy'\n",
            " 'check_refund_policy' 'check_refund_policy' 'check_refund_policy'\n",
            " 'check_refund_policy' 'check_refund_policy' 'check_refund_policy'\n",
            " 'check_refund_policy' 'check_refund_policy' 'check_refund_policy'\n",
            " 'check_refund_policy' 'check_refund_policy' 'check_refund_policy'\n",
            " 'check_refund_policy' 'check_refund_policy' 'check_refund_policy'\n",
            " 'check_refund_policy' 'check_refund_policy' 'check_refund_policy'\n",
            " 'check_refund_policy' 'check_refund_policy' 'check_refund_policy'\n",
            " 'check_refund_policy' 'check_refund_policy' 'check_refund_policy'\n",
            " 'check_refund_policy' 'check_refund_policy' 'check_refund_policy'\n",
            " 'check_refund_policy' 'check_refund_policy' 'check_refund_policy'\n",
            " 'check_refund_policy' 'check_refund_policy' 'complaint' 'complaint'\n",
            " 'complaint' 'complaint' 'complaint' 'complaint' 'complaint' 'complaint'\n",
            " 'complaint' 'complaint' 'complaint' 'complaint' 'complaint' 'complaint'\n",
            " 'complaint' 'complaint' 'complaint' 'complaint' 'complaint' 'complaint'\n",
            " 'complaint' 'complaint' 'complaint' 'contact_customer_service'\n",
            " 'contact_customer_service' 'contact_customer_service'\n",
            " 'contact_customer_service' 'contact_customer_service'\n",
            " 'contact_customer_service' 'contact_customer_service'\n",
            " 'contact_customer_service' 'contact_customer_service'\n",
            " 'contact_customer_service' 'contact_customer_service'\n",
            " 'contact_customer_service' 'contact_customer_service'\n",
            " 'contact_customer_service' 'contact_customer_service'\n",
            " 'contact_customer_service' 'contact_customer_service'\n",
            " 'contact_customer_service' 'contact_customer_service'\n",
            " 'contact_customer_service' 'contact_customer_service'\n",
            " 'contact_customer_service' 'contact_customer_service'\n",
            " 'contact_customer_service' 'contact_human_agent' 'contact_human_agent'\n",
            " 'contact_human_agent' 'contact_human_agent' 'contact_human_agent'\n",
            " 'contact_human_agent' 'contact_human_agent' 'contact_human_agent'\n",
            " 'contact_human_agent' 'contact_human_agent' 'contact_human_agent'\n",
            " 'contact_human_agent' 'contact_human_agent' 'contact_human_agent'\n",
            " 'contact_human_agent' 'contact_human_agent' 'contact_human_agent'\n",
            " 'contact_human_agent' 'contact_human_agent' 'contact_human_agent'\n",
            " 'contact_human_agent' 'contact_human_agent' 'contact_human_agent'\n",
            " 'create_account' 'contact_human_agent' 'contact_human_agent'\n",
            " 'contact_human_agent' 'contact_human_agent' 'contact_human_agent'\n",
            " 'contact_human_agent' 'contact_human_agent' 'contact_human_agent'\n",
            " 'contact_human_agent' 'contact_human_agent' 'contact_human_agent'\n",
            " 'contact_human_agent' 'contact_human_agent' 'contact_human_agent'\n",
            " 'contact_human_agent' 'contact_human_agent' 'contact_human_agent'\n",
            " 'contact_human_agent' 'create_account' 'delete_account' 'create_account'\n",
            " 'delete_account' 'switch_account' 'create_account' 'create_account'\n",
            " 'create_account' 'create_account' 'create_account' 'delete_account'\n",
            " 'create_account' 'create_account' 'create_account' 'create_account'\n",
            " 'create_account' 'create_account' 'create_account' 'delete_account'\n",
            " 'create_account' 'create_account' 'create_account' 'create_account'\n",
            " 'create_account' 'create_account' 'delete_account' 'delete_account'\n",
            " 'delete_account' 'delete_account' 'delete_account' 'delete_account'\n",
            " 'delete_account' 'delete_account' 'delete_account' 'delete_account'\n",
            " 'delete_account' 'delete_account' 'delete_account' 'delete_account'\n",
            " 'delete_account' 'delete_account' 'delete_account' 'delete_account'\n",
            " 'delete_account' 'delete_account' 'delete_account' 'delete_account'\n",
            " 'delete_account' 'delete_account' 'delete_account' 'delete_account'\n",
            " 'delete_account' 'delete_account' 'delete_account' 'delivery_options'\n",
            " 'delivery_options' 'delivery_options' 'delivery_options'\n",
            " 'delivery_options' 'delivery_options' 'delivery_options'\n",
            " 'delivery_options' 'delivery_options' 'delivery_options'\n",
            " 'delivery_options' 'delivery_options' 'delivery_options'\n",
            " 'delivery_options' 'delivery_options' 'delivery_options'\n",
            " 'delivery_options' 'delivery_options' 'delivery_options'\n",
            " 'delivery_options' 'delivery_options' 'delivery_options'\n",
            " 'delivery_options' 'delivery_options' 'delivery_options'\n",
            " 'delivery_options' 'delivery_options' 'delivery_options'\n",
            " 'delivery_options' 'delivery_options' 'delivery_options'\n",
            " 'delivery_options' 'delivery_period' 'delivery_period' 'delivery_period'\n",
            " 'delivery_period' 'delivery_period' 'delivery_period' 'delivery_period'\n",
            " 'delivery_period' 'delivery_period' 'delivery_period' 'delivery_period'\n",
            " 'delivery_period' 'delivery_period' 'delivery_period'\n",
            " 'check_payment_methods' 'delivery_period' 'delivery_period'\n",
            " 'delivery_period' 'delivery_period' 'delivery_period' 'delivery_period'\n",
            " 'delivery_period' 'delivery_period' 'delivery_period' 'delivery_period'\n",
            " 'delivery_period' 'delivery_period' 'delivery_period' 'delivery_period'\n",
            " 'delivery_period' 'delivery_period' 'delivery_period' 'delivery_period'\n",
            " 'delivery_period' 'delivery_period' 'delivery_period' 'delivery_period'\n",
            " 'newsletter_subscription' 'edit_account' 'edit_account' 'edit_account'\n",
            " 'edit_account' 'edit_account' 'edit_account' 'edit_account'\n",
            " 'edit_account' 'edit_account' 'edit_account' 'edit_account'\n",
            " 'edit_account' 'edit_account' 'edit_account' 'edit_account'\n",
            " 'edit_account' 'edit_account' 'edit_account' 'edit_account' 'get_refund'\n",
            " 'edit_account' 'edit_account' 'edit_account' 'edit_account'\n",
            " 'edit_account' 'edit_account' 'edit_account' 'edit_account'\n",
            " 'edit_account' 'edit_account' 'edit_account' 'edit_account'\n",
            " 'edit_account' 'edit_account' 'edit_account' 'get_invoice' 'get_invoice'\n",
            " 'get_invoice' 'get_invoice' 'get_invoice' 'get_invoice' 'get_invoice'\n",
            " 'get_invoice' 'get_invoice' 'get_invoice' 'get_invoice' 'get_invoice'\n",
            " 'get_invoice' 'get_invoice' 'get_invoice' 'get_invoice' 'get_invoice'\n",
            " 'get_invoice' 'get_invoice' 'get_invoice' 'get_invoice' 'get_invoice'\n",
            " 'get_invoice' 'get_invoice' 'get_invoice' 'get_invoice' 'get_invoice'\n",
            " 'get_invoice' 'get_invoice' 'get_invoice' 'get_invoice' 'get_refund'\n",
            " 'get_refund' 'get_refund' 'get_refund' 'get_refund' 'get_refund'\n",
            " 'get_refund' 'get_refund' 'get_refund' 'get_refund' 'get_refund'\n",
            " 'get_refund' 'get_refund' 'get_refund' 'get_refund' 'get_refund'\n",
            " 'get_refund' 'get_refund' 'get_refund' 'get_refund' 'edit_account'\n",
            " 'get_refund' 'get_refund' 'get_refund' 'get_refund' 'get_refund'\n",
            " 'get_refund' 'get_refund' 'newsletter_subscription'\n",
            " 'newsletter_subscription' 'newsletter_subscription'\n",
            " 'newsletter_subscription' 'newsletter_subscription'\n",
            " 'newsletter_subscription' 'newsletter_subscription'\n",
            " 'newsletter_subscription' 'check_cancellation_fee'\n",
            " 'newsletter_subscription' 'newsletter_subscription'\n",
            " 'newsletter_subscription' 'contact_customer_service'\n",
            " 'newsletter_subscription' 'newsletter_subscription'\n",
            " 'newsletter_subscription' 'newsletter_subscription'\n",
            " 'newsletter_subscription' 'newsletter_subscription'\n",
            " 'newsletter_subscription' 'newsletter_subscription'\n",
            " 'newsletter_subscription' 'newsletter_subscription' 'payment_issue'\n",
            " 'payment_issue' 'payment_issue' 'payment_issue' 'payment_issue'\n",
            " 'payment_issue' 'payment_issue' 'payment_issue' 'payment_issue'\n",
            " 'payment_issue' 'payment_issue' 'payment_issue' 'payment_issue'\n",
            " 'payment_issue' 'payment_issue' 'payment_issue' 'payment_issue'\n",
            " 'payment_issue' 'payment_issue' 'payment_issue' 'payment_issue'\n",
            " 'payment_issue' 'payment_issue' 'payment_issue' 'payment_issue'\n",
            " 'payment_issue' 'payment_issue' 'place_order' 'place_order' 'place_order'\n",
            " 'place_order' 'place_order' 'place_order' 'place_order' 'place_order'\n",
            " 'place_order' 'place_order' 'place_order' 'place_order' 'place_order'\n",
            " 'place_order' 'place_order' 'place_order' 'place_order' 'place_order'\n",
            " 'place_order' 'place_order' 'place_order' 'place_order' 'place_order'\n",
            " 'place_order' 'place_order' 'place_order' 'place_order' 'place_order'\n",
            " 'place_order' 'place_order' 'recover_password' 'recover_password'\n",
            " 'recover_password' 'recover_password' 'recover_password'\n",
            " 'recover_password' 'recover_password' 'recover_password'\n",
            " 'recover_password' 'create_account' 'recover_password' 'recover_password'\n",
            " 'recover_password' 'recover_password' 'recover_password'\n",
            " 'recover_password' 'recover_password' 'recover_password'\n",
            " 'recover_password' 'recover_password' 'registration_problems'\n",
            " 'registration_problems' 'registration_problems' 'registration_problems'\n",
            " 'registration_problems' 'registration_problems' 'registration_problems'\n",
            " 'get_invoice' 'registration_problems' 'registration_problems'\n",
            " 'registration_problems' 'registration_problems' 'get_invoice'\n",
            " 'registration_problems' 'registration_problems' 'registration_problems'\n",
            " 'registration_problems' 'registration_problems' 'registration_problems'\n",
            " 'registration_problems' 'registration_problems' 'registration_problems'\n",
            " 'registration_problems' 'registration_problems' 'registration_problems'\n",
            " 'registration_problems' 'registration_problems' 'review' 'review'\n",
            " 'review' 'review' 'review' 'review' 'review' 'review' 'review' 'review'\n",
            " 'review' 'review' 'review' 'review' 'review' 'review' 'review' 'review'\n",
            " 'review' 'review' 'review' 'review' 'review' 'review' 'review' 'review'\n",
            " 'review' 'review' 'review' 'review' 'review' 'review'\n",
            " 'set_up_shipping_address' 'set_up_shipping_address'\n",
            " 'set_up_shipping_address' 'set_up_shipping_address'\n",
            " 'set_up_shipping_address' 'set_up_shipping_address'\n",
            " 'set_up_shipping_address' 'set_up_shipping_address'\n",
            " 'set_up_shipping_address' 'set_up_shipping_address'\n",
            " 'set_up_shipping_address' 'set_up_shipping_address'\n",
            " 'set_up_shipping_address' 'set_up_shipping_address'\n",
            " 'set_up_shipping_address' 'set_up_shipping_address'\n",
            " 'set_up_shipping_address' 'set_up_shipping_address'\n",
            " 'set_up_shipping_address' 'set_up_shipping_address'\n",
            " 'set_up_shipping_address' 'set_up_shipping_address'\n",
            " 'set_up_shipping_address' 'set_up_shipping_address'\n",
            " 'set_up_shipping_address' 'set_up_shipping_address'\n",
            " 'set_up_shipping_address' 'set_up_shipping_address'\n",
            " 'set_up_shipping_address' 'set_up_shipping_address'\n",
            " 'set_up_shipping_address' 'set_up_shipping_address' 'switch_account'\n",
            " 'switch_account' 'switch_account' 'switch_account' 'switch_account'\n",
            " 'switch_account' 'switch_account' 'switch_account' 'switch_account'\n",
            " 'switch_account' 'switch_account' 'switch_account' 'switch_account'\n",
            " 'switch_account' 'switch_account' 'switch_account' 'switch_account'\n",
            " 'switch_account' 'switch_account' 'delete_account' 'switch_account'\n",
            " 'switch_account' 'switch_account' 'switch_account' 'switch_account'\n",
            " 'switch_account' 'switch_account' 'switch_account' 'switch_account'\n",
            " 'switch_account' 'switch_account' 'switch_account' 'switch_account'\n",
            " 'switch_account' 'switch_account' 'switch_account' 'track_order'\n",
            " 'track_order' 'track_order' 'track_order' 'track_order' 'track_order'\n",
            " 'track_order' 'track_order' 'track_order' 'track_order' 'track_order'\n",
            " 'track_order' 'track_order' 'track_order' 'track_order' 'track_order'\n",
            " 'check_cancellation_fee' 'track_order' 'track_order' 'track_order'\n",
            " 'track_order' 'track_order' 'track_order' 'track_order' 'track_order'\n",
            " 'track_order' 'track_order' 'track_order' 'track_order' 'track_order'\n",
            " 'track_order' 'track_refund' 'track_refund' 'track_refund' 'track_refund'\n",
            " 'track_refund' 'track_refund' 'track_refund' 'track_refund'\n",
            " 'track_refund' 'track_refund' 'track_refund' 'track_refund'\n",
            " 'track_refund' 'track_refund' 'track_refund' 'track_refund'\n",
            " 'track_refund' 'track_refund' 'track_refund' 'track_refund'\n",
            " 'track_refund' 'track_refund' 'track_refund' 'track_refund'\n",
            " 'track_refund' 'track_refund' 'track_refund' 'track_refund']\n"
          ]
        }
      ]
    },
    {
      "cell_type": "code",
      "source": [
        "len(y_pred)"
      ],
      "metadata": {
        "colab": {
          "base_uri": "https://localhost:8080/"
        },
        "id": "BvU0Eosm9ee_",
        "outputId": "f4548b63-3cb4-4170-dc37-455a390737ab"
      },
      "execution_count": 58,
      "outputs": [
        {
          "output_type": "execute_result",
          "data": {
            "text/plain": [
              "818"
            ]
          },
          "metadata": {},
          "execution_count": 58
        }
      ]
    },
    {
      "cell_type": "code",
      "source": [
        "df_test.shape"
      ],
      "metadata": {
        "colab": {
          "base_uri": "https://localhost:8080/"
        },
        "id": "rg2Y6vmI-hMn",
        "outputId": "ef129fef-8c66-4c74-e7bb-fae0f41117c9"
      },
      "execution_count": 59,
      "outputs": [
        {
          "output_type": "execute_result",
          "data": {
            "text/plain": [
              "(818, 4)"
            ]
          },
          "metadata": {},
          "execution_count": 59
        }
      ]
    },
    {
      "cell_type": "code",
      "source": [
        "results_df = pd.DataFrame({\"Actual Intent\": df_test['intent'], \"Predicted Intent\": y_pred})\n",
        "print(results_df)\n"
      ],
      "metadata": {
        "colab": {
          "base_uri": "https://localhost:8080/"
        },
        "id": "jlGTVFua-we7",
        "outputId": "0a614664-05a8-45bd-d92f-eb91cd398566"
      },
      "execution_count": 60,
      "outputs": [
        {
          "output_type": "stream",
          "name": "stdout",
          "text": [
            "    Actual Intent Predicted Intent\n",
            "0    cancel_order     cancel_order\n",
            "1    cancel_order     cancel_order\n",
            "2    cancel_order     cancel_order\n",
            "3    cancel_order     cancel_order\n",
            "4    cancel_order     cancel_order\n",
            "..            ...              ...\n",
            "813  track_refund     track_refund\n",
            "814  track_refund     track_refund\n",
            "815  track_refund     track_refund\n",
            "816  track_refund     track_refund\n",
            "817  track_refund     track_refund\n",
            "\n",
            "[818 rows x 2 columns]\n"
          ]
        }
      ]
    },
    {
      "cell_type": "code",
      "source": [
        "values_match = results_df['Actual Intent'] == results_df['Predicted Intent']\n",
        "\n",
        "# print the results\n",
        "print(values_match)"
      ],
      "metadata": {
        "colab": {
          "base_uri": "https://localhost:8080/"
        },
        "id": "lJhViqsvAmxU",
        "outputId": "3ebbd684-f452-469e-dccc-370ba4867bbb"
      },
      "execution_count": 61,
      "outputs": [
        {
          "output_type": "stream",
          "name": "stdout",
          "text": [
            "0      True\n",
            "1      True\n",
            "2      True\n",
            "3      True\n",
            "4      True\n",
            "       ... \n",
            "813    True\n",
            "814    True\n",
            "815    True\n",
            "816    True\n",
            "817    True\n",
            "Length: 818, dtype: bool\n"
          ]
        }
      ]
    },
    {
      "cell_type": "code",
      "source": [
        "true_count = 0\n",
        "false_count = 0\n",
        "\n",
        "for i in range(len(results_df)):\n",
        "    if results_df[\"Actual Intent\"][i] == results_df[\"Predicted Intent\"][i]:\n",
        "        true_count += 1\n",
        "    else:\n",
        "        false_count += 1\n",
        "\n",
        "print(\"Number of correct predictions:\", true_count)\n",
        "print(\"Number of incorrect predictions:\", false_count)\n"
      ],
      "metadata": {
        "colab": {
          "base_uri": "https://localhost:8080/"
        },
        "id": "WvAwM45tA0yj",
        "outputId": "95ac1960-2511-45e3-d62d-03e658af0f94"
      },
      "execution_count": 62,
      "outputs": [
        {
          "output_type": "stream",
          "name": "stdout",
          "text": [
            "Number of correct predictions: 799\n",
            "Number of incorrect predictions: 19\n"
          ]
        }
      ]
    },
    {
      "cell_type": "code",
      "source": [
        "# Save model to file\n",
        "model.save('intent_classifier.h5')\n"
      ],
      "metadata": {
        "id": "yMvjzYIvBx0S"
      },
      "execution_count": 63,
      "outputs": []
    },
    {
      "cell_type": "code",
      "source": [
        "import os\n",
        "\n",
        "print(os.getcwd())  # print current working directory\n",
        "\n",
        "# list contents of current working directory\n",
        "for file in os.listdir():\n",
        "    print(file)\n"
      ],
      "metadata": {
        "colab": {
          "base_uri": "https://localhost:8080/"
        },
        "id": "Z7DyoLJ2B6E-",
        "outputId": "19766cbf-4868-4019-c5e3-8fa6834f49e9"
      },
      "execution_count": 64,
      "outputs": [
        {
          "output_type": "stream",
          "name": "stdout",
          "text": [
            "/content\n",
            ".config\n",
            "intent_classifier.h5\n",
            "drive\n",
            "label_encoder.pkl\n",
            "tokenizer.pkl\n",
            "sample_data\n"
          ]
        }
      ]
    },
    {
      "cell_type": "code",
      "source": [
        "import pickle\n",
        "\n",
        "# Save tokenizer\n",
        "with open(\"tokenizer.pkl\", \"wb\") as f:\n",
        "    pickle.dump(tokenizer, f)\n",
        "\n",
        "# Save label encoder\n",
        "with open(\"label_encoder.pkl\", \"wb\") as f:\n",
        "    pickle.dump(label_encoder, f)\n"
      ],
      "metadata": {
        "id": "PyU_iIOTCd-w"
      },
      "execution_count": 65,
      "outputs": []
    },
    {
      "cell_type": "code",
      "source": [
        "# Import necessary libraries\n",
        "from tensorflow.keras.preprocessing.sequence import pad_sequences\n",
        "from keras.models import load_model\n",
        "import pandas as pd\n",
        "import pickle\n",
        "\n",
        "# Load saved model\n",
        "model = load_model(\"/content/intent_classifier.h5\")\n",
        "\n",
        "# Load tokenizer\n",
        "with open(\"/content/tokenizer.pkl\", \"rb\") as f:\n",
        "    tokenizer = pickle.load(f)\n",
        "\n",
        "# Load label encoder\n",
        "with open(\"/content/label_encoder.pkl\", \"rb\") as f:\n",
        "    label_encoder = pickle.load(f)\n",
        "\n",
        "# Define function to make predictions\n",
        "def predict_intent(utterance):\n",
        "    # Tokenize text and pad sequence\n",
        "    seq = tokenizer.texts_to_sequences([utterance])\n",
        "    padded_seq = pad_sequences(seq, maxlen=100)\n",
        "\n",
        "    # Make prediction\n",
        "    pred = model.predict(padded_seq)[0]\n",
        "\n",
        "    # Get predicted label and confidence score\n",
        "    label = label_encoder.inverse_transform([np.argmax(pred)])[0]\n",
        "    confidence = round(np.max(pred), 4)\n",
        "\n",
        "    # Return prediction results\n",
        "    return label, confidence\n",
        "\n",
        "# Test function with sample utterance\n",
        "utterance = \"What's the trending product today?\"\n",
        "utterance1 = \"how can i cancle product?\"\n",
        "\n",
        "label, confidence = predict_intent(utterance)\n",
        "label1, confidence1 = predict_intent(utterance1)\n",
        "\n",
        "print(f\"Predicted intent: {label}, Confidence: {confidence}\")\n",
        "print(f\"Predicted intent: {label1}, Confidence: {confidence1}\")\n",
        "\n"
      ],
      "metadata": {
        "colab": {
          "base_uri": "https://localhost:8080/"
        },
        "id": "5IiDgcnt3Umi",
        "outputId": "87d4d062-cc32-4efd-e07f-814a6fab27dd"
      },
      "execution_count": 66,
      "outputs": [
        {
          "output_type": "stream",
          "name": "stdout",
          "text": [
            "1/1 [==============================] - 0s 65ms/step\n",
            "1/1 [==============================] - 0s 22ms/step\n",
            "Predicted intent: switch_account, Confidence: 0.5774000287055969\n",
            "Predicted intent: switch_account, Confidence: 0.9961000084877014\n"
          ]
        }
      ]
    },
    {
      "cell_type": "code",
      "source": [],
      "metadata": {
        "id": "HrErx8JWPbxL"
      },
      "execution_count": 66,
      "outputs": []
    }
  ]
}